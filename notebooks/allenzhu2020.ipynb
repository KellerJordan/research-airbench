{
 "cells": [
  {
   "cell_type": "code",
   "execution_count": 72,
   "metadata": {},
   "outputs": [],
   "source": [
    "\"\"\"\n",
    "clean_airbench.py\n",
    "\"\"\"\n",
    "\n",
    "#############################################\n",
    "#            Setup/Hyperparameters          #\n",
    "#############################################\n",
    "\n",
    "import torch\n",
    "from torch import nn\n",
    "import torch.nn.functional as F\n",
    "import torchvision\n",
    "import torchvision.transforms as T\n",
    "\n",
    "from airbench import evaluate, CifarLoader\n",
    "from tqdm import tqdm\n",
    "import matplotlib.pyplot as plt\n",
    "\n",
    "torch.backends.cudnn.benchmark = True\n",
    "\n",
    "hyp = {\n",
    "    'opt': {\n",
    "        'epochs': 15,\n",
    "        'batch_size': 1000,\n",
    "        'lr': 5.0,             # learning rate per 1024 examples -- 5.0 is optimal with no smoothing, 10.0 with smoothing.\n",
    "        'momentum': 0.85,\n",
    "        'weight_decay': 0.015,  # weight decay per 1024 examples (decoupled from learning rate)\n",
    "        'bias_scaler': 64.0,    # scales up learning rate (but not weight decay) for BatchNorm biases\n",
    "#         'label_smoothing': 0.2,\n",
    "        'label_smoothing': 0.0,\n",
    "    },\n",
    "    'aug': {\n",
    "        'flip': True,\n",
    "        'translate': 2,\n",
    "    },\n",
    "    'net': {\n",
    "        'widths': {\n",
    "            'block1': 64,\n",
    "            'block2': 256,\n",
    "            'block3': 256,\n",
    "        },\n",
    "        'scaling_factor': 1/9,\n",
    "        'tta_level': 2,\n",
    "    },\n",
    "}\n",
    "\n",
    "#############################################\n",
    "#            Network Components             #\n",
    "#############################################\n",
    "\n",
    "class Flatten(nn.Module):\n",
    "    def forward(self, x):\n",
    "        return x.view(x.size(0), -1)\n",
    "\n",
    "class Mul(nn.Module):\n",
    "    def __init__(self, scale):\n",
    "        super().__init__()\n",
    "        self.scale = scale\n",
    "    def forward(self, x):\n",
    "        return x * self.scale\n",
    "\n",
    "class BatchNorm(nn.BatchNorm2d):\n",
    "    def __init__(self, num_features, eps=1e-12,\n",
    "                 weight=False, bias=True):\n",
    "        super().__init__(num_features, eps=eps)\n",
    "        self.weight.requires_grad = weight\n",
    "        self.bias.requires_grad = bias\n",
    "        # Note that PyTorch already initializes the weights to one and bias to zero\n",
    "\n",
    "class Conv(nn.Conv2d):\n",
    "    def __init__(self, in_channels, out_channels, kernel_size=3, padding='same', bias=False):\n",
    "        super().__init__(in_channels, out_channels, kernel_size=kernel_size, padding=padding, bias=bias)\n",
    "\n",
    "    def reset_parameters(self):\n",
    "        super().reset_parameters()\n",
    "        if self.bias is not None:\n",
    "            self.bias.data.zero_()\n",
    "        w = self.weight.data\n",
    "        torch.nn.init.dirac_(w[:w.size(1)])\n",
    "\n",
    "class ConvGroup(nn.Module):\n",
    "    def __init__(self, channels_in, channels_out):\n",
    "        super().__init__()\n",
    "        self.conv1 = Conv(channels_in,  channels_out)\n",
    "        self.pool = nn.MaxPool2d(2)\n",
    "        self.norm1 = BatchNorm(channels_out)\n",
    "        self.conv2 = Conv(channels_out, channels_out)\n",
    "        self.norm2 = BatchNorm(channels_out)\n",
    "        self.activ = nn.GELU()\n",
    "\n",
    "    def forward(self, x):\n",
    "        x = self.conv1(x)\n",
    "        x = self.pool(x)\n",
    "        x = self.norm1(x)\n",
    "        x = self.activ(x)\n",
    "        x = self.conv2(x)\n",
    "        x = self.norm2(x)\n",
    "        x = self.activ(x)\n",
    "        return x\n",
    "\n",
    "#############################################\n",
    "#            Network Definition             #\n",
    "#############################################\n",
    "\n",
    "## The eigenvectors of the covariance matrix of 2x2 patches of CIFAR-10 divided by sqrt eigenvalues.\n",
    "eigenvectors_scaled = torch.tensor([\n",
    " 8.9172e-02,  8.9172e-02,  8.8684e-02,  8.8623e-02,  9.3872e-02,  9.3872e-02,  9.3018e-02,  9.3018e-02,\n",
    " 9.0027e-02,  9.0027e-02,  8.9233e-02,  8.9172e-02,  3.8818e-01,  3.8794e-01,  3.9111e-01,  3.9038e-01,\n",
    "-1.0767e-03, -1.3609e-03,  3.8567e-03,  3.2330e-03, -3.9087e-01, -3.9087e-01, -3.8428e-01, -3.8452e-01,\n",
    "-4.8242e-01, -4.7485e-01,  4.5435e-01,  4.6216e-01, -4.6240e-01, -4.5557e-01,  4.8975e-01,  4.9658e-01,\n",
    "-4.3311e-01, -4.2725e-01,  4.2285e-01,  4.2896e-01, -5.0781e-01,  5.1514e-01, -5.1562e-01,  5.0879e-01,\n",
    "-5.1807e-01,  5.2783e-01, -5.2539e-01,  5.1904e-01, -4.6460e-01,  4.7070e-01, -4.7168e-01,  4.6240e-01,\n",
    "-4.7290e-01, -4.7461e-01, -5.0635e-01, -5.0684e-01,  9.5410e-01,  9.5117e-01,  9.2090e-01,  9.1846e-01,\n",
    "-4.7363e-01, -4.7607e-01, -5.0439e-01, -5.0586e-01, -1.2539e+00,  1.2490e+00,  1.2383e+00, -1.2354e+00,\n",
    "-1.2637e+00,  1.2666e+00,  1.2715e+00, -1.2725e+00, -1.1396e+00,  1.1416e+00,  1.1494e+00, -1.1514e+00,\n",
    "-2.8262e+00, -2.7578e+00,  2.7617e+00,  2.8438e+00,  3.9404e-01,  3.7622e-01, -3.8330e-01, -3.9502e-01,\n",
    " 2.6602e+00,  2.5801e+00, -2.6055e+00, -2.6738e+00, -2.9473e+00,  3.0312e+00, -3.0488e+00,  2.9648e+00,\n",
    " 3.9111e-01, -4.0063e-01,  3.7939e-01, -3.7451e-01,  2.8242e+00, -2.9023e+00,  2.8789e+00, -2.8008e+00,\n",
    " 2.6582e+00,  2.3105e+00, -2.3105e+00, -2.6484e+00, -5.9336e+00, -5.1680e+00,  5.1719e+00,  5.9258e+00,\n",
    " 3.6855e+00,  3.2285e+00, -3.2148e+00, -3.6992e+00, -2.4668e+00,  2.8281e+00, -2.8379e+00,  2.4785e+00,\n",
    " 5.4062e+00, -6.2031e+00,  6.1797e+00, -5.3906e+00, -3.3223e+00,  3.8164e+00, -3.8223e+00,  3.3340e+00,\n",
    "-8.0000e+00,  8.0000e+00,  8.0000e+00, -8.0078e+00,  9.7656e-01, -9.9414e-01, -9.8584e-01,  1.0039e+00,\n",
    " 7.5938e+00, -7.5820e+00, -7.6133e+00,  7.6016e+00,  5.5508e+00, -5.5430e+00, -5.5430e+00,  5.5352e+00,\n",
    "-1.2133e+01,  1.2133e+01,  1.2148e+01, -1.2148e+01,  7.4141e+00, -7.4180e+00, -7.4219e+00,  7.4297e+00,\n",
    "]).reshape(12, 3, 2, 2)\n",
    "\n",
    "def make_net():\n",
    "    widths = hyp['net']['widths']\n",
    "    whiten_kernel_size = 2\n",
    "    whiten_width = 2 * 3 * whiten_kernel_size**2\n",
    "    net = nn.Sequential(\n",
    "        Conv(3, whiten_width, whiten_kernel_size, padding=0, bias=True),\n",
    "        nn.GELU(),\n",
    "        ConvGroup(whiten_width,     widths['block1']),\n",
    "        ConvGroup(widths['block1'], widths['block2']),\n",
    "        ConvGroup(widths['block2'], widths['block3']),\n",
    "        nn.MaxPool2d(3),\n",
    "        Flatten(),\n",
    "        nn.Linear(widths['block3'], 10, bias=False),\n",
    "        Mul(hyp['net']['scaling_factor']),\n",
    "    )\n",
    "    net[0].weight.data[:] = torch.cat((eigenvectors_scaled, -eigenvectors_scaled))\n",
    "    net[0].weight.requires_grad = False\n",
    "    net = net.half().cuda()\n",
    "    net = net.to(memory_format=torch.channels_last)\n",
    "    for mod in net.modules():\n",
    "        if isinstance(mod, BatchNorm):\n",
    "            mod.float()\n",
    "    return net"
   ]
  },
  {
   "cell_type": "code",
   "execution_count": 55,
   "metadata": {},
   "outputs": [],
   "source": [
    "def train(train_loader, teacher=None):\n",
    "\n",
    "    momentum = hyp['opt']['momentum']\n",
    "    epochs = hyp['opt']['epochs']\n",
    "    # Assuming gradients are constant in time, for Nesterov momentum, the below ratio is how much\n",
    "    # larger the default steps will be than the underlying per-example gradients. We divide the\n",
    "    # learning rate by this ratio in order to ensure steps are the same scale as gradients, regardless\n",
    "    # of the choice of momentum.\n",
    "    kilostep_scale = 1024 * (1 + 1 / (1 - momentum))\n",
    "    lr = hyp['opt']['lr'] / kilostep_scale # un-decoupled learning rate for PyTorch SGD\n",
    "    wd = hyp['opt']['weight_decay'] * train_loader.batch_size / kilostep_scale\n",
    "    lr_biases = lr * hyp['opt']['bias_scaler']\n",
    "\n",
    "    model = make_net()\n",
    "    loss_fn = nn.CrossEntropyLoss(label_smoothing=hyp['opt']['label_smoothing'], reduction='none')\n",
    "    total_train_steps = epochs * len(train_loader)\n",
    "\n",
    "    norm_biases = [p for k, p in model.named_parameters() if 'norm' in k]\n",
    "    other_params = [p for k, p in model.named_parameters() if 'norm' not in k]\n",
    "    param_configs = [dict(params=norm_biases, lr=lr_biases, weight_decay=wd/lr_biases),\n",
    "                     dict(params=other_params, lr=lr, weight_decay=wd/lr)]\n",
    "    optimizer = torch.optim.SGD(param_configs, momentum=momentum, nesterov=True)\n",
    "    def get_lr(step):\n",
    "        warmup_steps = int(total_train_steps * 0.2)\n",
    "        warmdown_steps = total_train_steps - warmup_steps\n",
    "        if step < warmup_steps:\n",
    "            frac = step / warmup_steps\n",
    "            return 0.2 * (1 - frac) + 1.0 * frac\n",
    "        else:\n",
    "            frac = (step - warmup_steps) / warmdown_steps\n",
    "            return (1 - frac)\n",
    "    scheduler = torch.optim.lr_scheduler.LambdaLR(optimizer, get_lr)\n",
    "\n",
    "    current_steps = 0\n",
    "    model.train()\n",
    "    if teacher:\n",
    "        teacher.eval()\n",
    "    for epoch in tqdm(range(epochs)):\n",
    "        for inputs, labels in train_loader:\n",
    "\n",
    "            outputs = model(inputs)\n",
    "            if teacher:\n",
    "                with torch.no_grad():\n",
    "                    outputs_teacher = model_teacher(inputs)\n",
    "                loss = loss_fn(outputs, outputs_teacher.softmax(dim=1)).sum()\n",
    "            else:\n",
    "                loss = loss_fn(outputs, labels).sum()\n",
    "            optimizer.zero_grad(set_to_none=True)\n",
    "            loss.backward()\n",
    "            optimizer.step()\n",
    "            scheduler.step()\n",
    "\n",
    "            current_steps += 1\n",
    "            if current_steps == total_train_steps:\n",
    "                break\n",
    "\n",
    "    return model"
   ]
  },
  {
   "cell_type": "code",
   "execution_count": 60,
   "metadata": {},
   "outputs": [],
   "source": [
    "class Ensemble(nn.Module):\n",
    "    def __init__(self, models):\n",
    "        super().__init__()\n",
    "        self.models = nn.ModuleList(models)\n",
    "    def forward(self, x):\n",
    "        return torch.stack([model(x) for model in self.models]).mean(0)"
   ]
  },
  {
   "cell_type": "code",
   "execution_count": 56,
   "metadata": {},
   "outputs": [],
   "source": [
    "train_loader = CifarLoader('/tmp/cifar10', train=True, batch_size=hyp['opt']['batch_size'],\n",
    "                           aug=hyp['aug'], altflip=False)\n",
    "test_loader = CifarLoader('/tmp/cifar10', train=False, batch_size=1000)"
   ]
  },
  {
   "cell_type": "code",
   "execution_count": 67,
   "metadata": {},
   "outputs": [
    {
     "name": "stderr",
     "output_type": "stream",
     "text": [
      "100%|███████████████████████████████████████████| 15/15 [00:06<00:00,  2.49it/s]\n",
      "100%|███████████████████████████████████████████| 15/15 [00:05<00:00,  2.51it/s]\n",
      "100%|███████████████████████████████████████████| 15/15 [00:05<00:00,  2.51it/s]\n",
      "100%|███████████████████████████████████████████| 15/15 [00:06<00:00,  2.50it/s]\n",
      "100%|███████████████████████████████████████████| 15/15 [00:05<00:00,  2.51it/s]\n",
      "100%|███████████████████████████████████████████| 15/15 [00:06<00:00,  2.49it/s]\n",
      "100%|███████████████████████████████████████████| 15/15 [00:06<00:00,  2.49it/s]\n",
      "100%|███████████████████████████████████████████| 15/15 [00:06<00:00,  2.49it/s]\n",
      "100%|███████████████████████████████████████████| 15/15 [00:06<00:00,  2.50it/s]\n",
      "100%|███████████████████████████████████████████| 15/15 [00:06<00:00,  2.48it/s]\n"
     ]
    }
   ],
   "source": [
    "## Train 20 models normally\n",
    "nets0 = []\n",
    "for _ in range(20):\n",
    "    net = train(train_loader)\n",
    "    nets0.append(net)"
   ]
  },
  {
   "cell_type": "code",
   "execution_count": 101,
   "metadata": {},
   "outputs": [
    {
     "name": "stdout",
     "output_type": "stream",
     "text": [
      "average single-model accuracy: 0.9333199709653854\n",
      "ensemble accuracy: 0.9501000046730042\n"
     ]
    }
   ],
   "source": [
    "accs = [evaluate(net, test_loader) for net in nets0]\n",
    "print('average single-model accuracy:', sum(accs) / len(accs))\n",
    "print('ensemble accuracy:', evaluate(Ensemble(nets0), test_loader))"
   ]
  },
  {
   "cell_type": "code",
   "execution_count": 83,
   "metadata": {},
   "outputs": [
    {
     "name": "stderr",
     "output_type": "stream",
     "text": [
      "100%|███████████████████████████████████████████| 15/15 [00:08<00:00,  1.87it/s]\n",
      "100%|███████████████████████████████████████████| 15/15 [00:08<00:00,  1.87it/s]\n",
      "100%|███████████████████████████████████████████| 15/15 [00:08<00:00,  1.86it/s]\n",
      "100%|███████████████████████████████████████████| 15/15 [00:08<00:00,  1.86it/s]\n",
      "100%|███████████████████████████████████████████| 15/15 [00:08<00:00,  1.86it/s]\n",
      "100%|███████████████████████████████████████████| 15/15 [00:08<00:00,  1.85it/s]\n",
      "100%|███████████████████████████████████████████| 15/15 [00:08<00:00,  1.86it/s]\n",
      "100%|███████████████████████████████████████████| 15/15 [00:08<00:00,  1.86it/s]\n",
      "100%|███████████████████████████████████████████| 15/15 [00:08<00:00,  1.86it/s]\n",
      "100%|███████████████████████████████████████████| 15/15 [00:08<00:00,  1.85it/s]\n",
      "100%|███████████████████████████████████████████| 15/15 [00:08<00:00,  1.85it/s]\n",
      "100%|███████████████████████████████████████████| 15/15 [00:08<00:00,  1.85it/s]\n",
      "100%|███████████████████████████████████████████| 15/15 [00:08<00:00,  1.85it/s]\n",
      "100%|███████████████████████████████████████████| 15/15 [00:08<00:00,  1.86it/s]\n",
      "100%|███████████████████████████████████████████| 15/15 [00:08<00:00,  1.85it/s]\n",
      "100%|███████████████████████████████████████████| 15/15 [00:08<00:00,  1.85it/s]\n",
      "100%|███████████████████████████████████████████| 15/15 [00:08<00:00,  1.85it/s]\n",
      "100%|███████████████████████████████████████████| 15/15 [00:08<00:00,  1.86it/s]\n",
      "100%|███████████████████████████████████████████| 15/15 [00:08<00:00,  1.86it/s]\n",
      "100%|███████████████████████████████████████████| 15/15 [00:08<00:00,  1.86it/s]\n"
     ]
    }
   ],
   "source": [
    "## Distill a model from each of the base models\n",
    "nets1 = []\n",
    "for i in range(20):\n",
    "    net = train_distill(train_loader, nets0[i])\n",
    "    nets1.append(net)"
   ]
  },
  {
   "cell_type": "code",
   "execution_count": 99,
   "metadata": {},
   "outputs": [
    {
     "name": "stdout",
     "output_type": "stream",
     "text": [
      "average single-model accuracy: 0.9345949798822403\n",
      "ensemble accuracy: 0.9472999572753906\n"
     ]
    }
   ],
   "source": [
    "accs = [evaluate(net, test_loader) for net in nets1]\n",
    "print('average single-model accuracy:', sum(accs) / len(accs))\n",
    "print('ensemble accuracy:', evaluate(Ensemble(nets1), test_loader))"
   ]
  },
  {
   "cell_type": "code",
   "execution_count": 90,
   "metadata": {
    "scrolled": true
   },
   "outputs": [
    {
     "name": "stderr",
     "output_type": "stream",
     "text": [
      "100%|███████████████████████████████████████████| 15/15 [00:16<00:00,  1.08s/it]\n",
      "100%|███████████████████████████████████████████| 15/15 [00:16<00:00,  1.08s/it]\n",
      "100%|███████████████████████████████████████████| 15/15 [00:16<00:00,  1.08s/it]\n",
      "100%|███████████████████████████████████████████| 15/15 [00:16<00:00,  1.09s/it]\n",
      "100%|███████████████████████████████████████████| 15/15 [00:16<00:00,  1.09s/it]\n",
      "100%|███████████████████████████████████████████| 15/15 [00:16<00:00,  1.09s/it]\n",
      "100%|███████████████████████████████████████████| 15/15 [00:16<00:00,  1.09s/it]\n",
      "100%|███████████████████████████████████████████| 15/15 [00:16<00:00,  1.09s/it]\n",
      "100%|███████████████████████████████████████████| 15/15 [00:16<00:00,  1.09s/it]\n",
      "100%|███████████████████████████████████████████| 15/15 [00:16<00:00,  1.09s/it]\n"
     ]
    }
   ],
   "source": [
    "## Distill 20 models from an ensemble of base models\n",
    "# nets2 = []\n",
    "for i in range(20):\n",
    "    net = train_distill(train_loader, Ensemble(nets0[:5]))\n",
    "    nets2.append(net)"
   ]
  },
  {
   "cell_type": "code",
   "execution_count": 100,
   "metadata": {},
   "outputs": [
    {
     "name": "stdout",
     "output_type": "stream",
     "text": [
      "average single-model accuracy: 0.937344977259636\n",
      "ensemble accuracy: 0.9472999572753906\n"
     ]
    }
   ],
   "source": [
    "accs = [evaluate(net, test_loader) for net in nets2]\n",
    "print('average single-model accuracy:', sum(accs) / len(accs))\n",
    "print('ensemble accuracy:', evaluate(Ensemble(nets1), test_loader))"
   ]
  },
  {
   "cell_type": "code",
   "execution_count": 107,
   "metadata": {},
   "outputs": [
    {
     "name": "stderr",
     "output_type": "stream",
     "text": [
      "100%|███████████████████████████████████████████| 10/10 [00:04<00:00,  2.07it/s]\n",
      "100%|███████████████████████████████████████████| 10/10 [00:04<00:00,  2.09it/s]\n",
      "100%|███████████████████████████████████████████| 10/10 [00:04<00:00,  2.08it/s]\n"
     ]
    },
    {
     "data": {
      "image/png": "[encoded data removed]",
      "text/plain": [
       "<Figure size 640x480 with 1 Axes>"
      ]
     },
     "metadata": {},
     "output_type": "display_data"
    }
   ],
   "source": [
    "accs = []\n",
    "kk = range(1, 11)\n",
    "for k in tqdm(kk): # k is the ensemble size\n",
    "    # average across 5 choices of the ensemble (this is just to de-noise the result)\n",
    "    acc = torch.tensor([evaluate(Ensemble(nets0[k*i:k*i+k]), test_loader)\n",
    "                        for i in range(20//k)]).mean().item()\n",
    "    accs.append(acc)\n",
    "plt.plot(kk, accs, label='vanilla models')\n",
    "\n",
    "accs = []\n",
    "kk = range(1, 11)\n",
    "for k in tqdm(kk): # k is the ensemble size\n",
    "    # average across 5 choices of the ensemble (this is just to de-noise the result)\n",
    "    acc = torch.tensor([evaluate(Ensemble(nets1[k*i:k*i+k]), test_loader)\n",
    "                        for i in range(20//k)]).mean().item()\n",
    "    accs.append(acc)\n",
    "plt.plot(kk, accs, label='distilled from single model (\"self-distillation\")')\n",
    "\n",
    "accs = []\n",
    "kk = range(1, 11)\n",
    "for k in tqdm(kk): # k is the ensemble size\n",
    "    # average across 5 choices of the ensemble (this is just to de-noise the result)\n",
    "    acc = torch.tensor([evaluate(Ensemble(nets2[k*i:k*i+k]), test_loader)\n",
    "                        for i in range(20//k)]).mean().item()\n",
    "    accs.append(acc)\n",
    "plt.plot(kk, accs, label='distilled from 5x ensemble (\"knowledge distillation\")')\n",
    "\n",
    "plt.xlabel('ensemble size')\n",
    "plt.ylabel('test-set accuracy')\n",
    "plt.title('ensembles of default models')\n",
    "plt.legend()\n",
    "plt.show()"
   ]
  },
  {
   "cell_type": "code",
   "execution_count": null,
   "metadata": {},
   "outputs": [],
   "source": []
  }
 ],
 "metadata": {
  "kernelspec": {
   "display_name": "Python 3 (ipykernel)",
   "language": "python",
   "name": "python3"
  },
  "language_info": {
   "codemirror_mode": {
    "name": "ipython",
    "version": 3
   },
   "file_extension": ".py",
   "mimetype": "text/x-python",
   "name": "python",
   "nbconvert_exporter": "python",
   "pygments_lexer": "ipython3",
   "version": "3.8.10"
  }
 },
 "nbformat": 4,
 "nbformat_minor": 4
}
